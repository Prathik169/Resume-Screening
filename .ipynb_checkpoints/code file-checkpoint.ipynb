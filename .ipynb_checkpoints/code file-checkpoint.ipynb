{
 "cells": [
  {
   "cell_type": "code",
   "execution_count": null,
   "id": "e703efaf",
   "metadata": {},
   "outputs": [],
   "source": [
    "import numpy as np\n",
    "import pandas as pd\n",
    "import matplotlib.pyplot as plt\n",
    "import seaborn as sns"
   ]
  },
  {
   "cell_type": "code",
   "execution_count": null,
   "id": "2ffae045",
   "metadata": {},
   "outputs": [],
   "source": [
    "df=pd.read_csv('UpdatedResumeDataSet.csv')\n",
    "df.head()"
   ]
  },
  {
   "cell_type": "code",
   "execution_count": null,
   "id": "a80ad1ad",
   "metadata": {},
   "outputs": [],
   "source": [
    "df.shape"
   ]
  },
  {
   "cell_type": "code",
   "execution_count": null,
   "id": "a5be83de",
   "metadata": {},
   "outputs": [],
   "source": [
    "df['Category'].value_counts()"
   ]
  },
  {
   "cell_type": "code",
   "execution_count": null,
   "id": "2e461fcc",
   "metadata": {},
   "outputs": [],
   "source": [
    "round(df['Category'].value_counts(normalize=True)*100,2)"
   ]
  },
  {
   "cell_type": "markdown",
   "id": "c99349ff",
   "metadata": {},
   "source": [
    "# Visual Representation"
   ]
  },
  {
   "cell_type": "code",
   "execution_count": null,
   "id": "1c02b4c1",
   "metadata": {},
   "outputs": [],
   "source": [
    "plt.figure(figsize=(15,5))\n",
    "sns.countplot(data=df, x='Category')\n",
    "plt.xticks(rotation=90)\n",
    "plt.show()"
   ]
  },
  {
   "cell_type": "code",
   "execution_count": null,
   "id": "451aac5b",
   "metadata": {},
   "outputs": [],
   "source": [
    "plt.figure(figsize=[17,12])\n",
    "plt.pie(df['Category'].value_counts(),labels=df['Category'].unique(),autopct='%1.2f%%')\n",
    "plt.title('Pie Chart for Category')\n",
    "plt.show()"
   ]
  },
  {
   "cell_type": "markdown",
   "id": "9c2457f8",
   "metadata": {},
   "source": [
    "# Data preprocessing"
   ]
  },
  {
   "cell_type": "code",
   "execution_count": null,
   "id": "7c54e082",
   "metadata": {},
   "outputs": [],
   "source": [
    "import re"
   ]
  },
  {
   "cell_type": "code",
   "execution_count": null,
   "id": "56afa1b7",
   "metadata": {},
   "outputs": [],
   "source": [
    "df['Resume'][0]"
   ]
  },
  {
   "cell_type": "markdown",
   "id": "7d63bca6",
   "metadata": {},
   "source": [
    "Use raw data and bring out clear and valuable texts"
   ]
  },
  {
   "cell_type": "code",
   "execution_count": null,
   "id": "1202b6ac",
   "metadata": {},
   "outputs": [],
   "source": [
    "def resumeclean(x):\n",
    "    CleanResume = re.sub('http\\S+\\s','', x)\n",
    "    CleanResume = re.sub('@\\S+','', CleanResume)\n",
    "    CleanResume = re.sub('#\\S+\\s','', CleanResume)\n",
    "    CleanResume = re.sub('RT|cc', ' ', CleanResume)\n",
    "    CleanResume = re.sub('[%s]' % re.escape(\"\"\"!\"#$%&'()*+,-./:;<=>?@[\\]^_`{|}~\"\"\"), ' ', CleanResume)\n",
    "    CleanResume = re.sub(r'[^\\x00-\\x7f]', ' ', CleanResume) \n",
    "    CleanResume = re.sub('\\s+', ' ', CleanResume)\n",
    "    \n",
    "    return CleanResume"
   ]
  },
  {
   "cell_type": "code",
   "execution_count": null,
   "id": "3d63a187",
   "metadata": {},
   "outputs": [],
   "source": [
    "df['Resume'] = df['Resume'].apply(lambda x: resumeclean(x))"
   ]
  },
  {
   "cell_type": "code",
   "execution_count": null,
   "id": "fe342d69",
   "metadata": {},
   "outputs": [],
   "source": [
    "df['Resume'][0]"
   ]
  },
  {
   "cell_type": "code",
   "execution_count": null,
   "id": "41e484a3",
   "metadata": {},
   "outputs": [],
   "source": [
    "from sklearn.preprocessing import LabelEncoder"
   ]
  },
  {
   "cell_type": "code",
   "execution_count": null,
   "id": "52fc24c2",
   "metadata": {},
   "outputs": [],
   "source": [
    "le=LabelEncoder()\n",
    "df['Category']=le.fit_transform(df['Category'])"
   ]
  },
  {
   "cell_type": "code",
   "execution_count": null,
   "id": "c69de766",
   "metadata": {},
   "outputs": [],
   "source": [
    "df['Category'].value_counts()"
   ]
  },
  {
   "cell_type": "code",
   "execution_count": null,
   "id": "fb02ec44",
   "metadata": {},
   "outputs": [],
   "source": [
    "df['Category'].unique()"
   ]
  },
  {
   "cell_type": "markdown",
   "id": "8288c44b",
   "metadata": {},
   "source": [
    "# Vectorisation"
   ]
  },
  {
   "cell_type": "code",
   "execution_count": null,
   "id": "34b27081",
   "metadata": {},
   "outputs": [],
   "source": [
    "from sklearn.feature_extraction.text import TfidfVectorizer"
   ]
  },
  {
   "cell_type": "code",
   "execution_count": null,
   "id": "bca870ff",
   "metadata": {},
   "outputs": [],
   "source": [
    "tfidf=TfidfVectorizer(stop_words='english')\n",
    "\n",
    "vectered_text = tfidf.fit_transform(df['Resume'])"
   ]
  },
  {
   "cell_type": "code",
   "execution_count": null,
   "id": "c7a575b0",
   "metadata": {},
   "outputs": [],
   "source": [
    "vectered_text[0]"
   ]
  },
  {
   "cell_type": "markdown",
   "id": "61b4ed6a",
   "metadata": {},
   "source": [
    "# Training"
   ]
  },
  {
   "cell_type": "code",
   "execution_count": null,
   "id": "746f9c39",
   "metadata": {},
   "outputs": [],
   "source": [
    "from sklearn.model_selection import train_test_split"
   ]
  },
  {
   "cell_type": "code",
   "execution_count": null,
   "id": "9da30974",
   "metadata": {},
   "outputs": [],
   "source": [
    "xtrain,xtest,ytrain,ytest= train_test_split(vectered_text,df['Category'], test_size=0.3, random_state=42)"
   ]
  },
  {
   "cell_type": "code",
   "execution_count": null,
   "id": "eab157c1",
   "metadata": {},
   "outputs": [],
   "source": [
    "xtrain.shape"
   ]
  },
  {
   "cell_type": "code",
   "execution_count": null,
   "id": "4997e984",
   "metadata": {},
   "outputs": [],
   "source": [
    "xtest.shape"
   ]
  },
  {
   "cell_type": "code",
   "execution_count": null,
   "id": "949b20d1",
   "metadata": {},
   "outputs": [],
   "source": [
    "from sklearn.neighbors import KNeighborsClassifier\n",
    "from sklearn.metrics import accuracy_score\n",
    "KNN = KNeighborsClassifier()\n",
    "KNN.fit(xtrain,ytrain)\n",
    "\n",
    "ypred = KNN.predict(xtest)"
   ]
  },
  {
   "cell_type": "code",
   "execution_count": null,
   "id": "b05a3089",
   "metadata": {},
   "outputs": [],
   "source": [
    "print(ypred)"
   ]
  },
  {
   "cell_type": "code",
   "execution_count": null,
   "id": "6c914a40",
   "metadata": {},
   "outputs": [],
   "source": [
    "print(accuracy_score(ytest,ypred))"
   ]
  },
  {
   "cell_type": "code",
   "execution_count": null,
   "id": "0da2aef1",
   "metadata": {},
   "outputs": [],
   "source": [
    "from sklearn.multiclass import OneVsRestClassifier"
   ]
  },
  {
   "cell_type": "code",
   "execution_count": null,
   "id": "ff80bdf4",
   "metadata": {},
   "outputs": [],
   "source": [
    "import seaborn as sns \n",
    "plt.figure(figsize=(12,7))\n",
    "plt.style.use(\"fivethirtyeight\")\n",
    "\n",
    "# import libraries for data preprocessinhg\n",
    "from sklearn.model_selection import train_test_split, GridSearchCV\n",
    "from sklearn.preprocessing import StandardScaler\n",
    "from imblearn.over_sampling import SMOTE\n",
    "\n",
    "# libraries for model fitting\n",
    "from sklearn.linear_model import LogisticRegression\n",
    "from sklearn.naive_bayes import GaussianNB\n",
    "from sklearn.neighbors import KNeighborsClassifier\n",
    "from sklearn.tree import DecisionTreeClassifier\n",
    "from sklearn.ensemble import RandomForestClassifier, AdaBoostClassifier, GradientBoostingClassifier\n",
    "from sklearn.svm import SVC\n",
    "from xgboost import XGBClassifier\n",
    "\n",
    "# librarie for metrics \n",
    "from sklearn.metrics import accuracy_score, precision_score, recall_score, f1_score, roc_auc_score\n",
    "from sklearn.metrics import confusion_matrix, classification_report\n",
    "\n",
    "\n",
    "# libraries for optimization and interpretation\n",
    "import shap\n",
    "\n",
    "# for warnings\n",
    "import warnings\n",
    "warnings.filterwarnings(\"ignore\")\n",
    "print(\"All libraries are imported\")"
   ]
  },
  {
   "cell_type": "code",
   "execution_count": null,
   "id": "3ee7d956",
   "metadata": {},
   "outputs": [],
   "source": [
    "clfs={'logreg':LogisticRegression(),\n",
    "    'KNN':KNeighborsClassifier(),\n",
    "    'Decision Tree':DecisionTreeClassifier(),\n",
    "    'Random Forest':RandomForestClassifier(),\n",
    "    'Adaboost':AdaBoostClassifier(),\n",
    "    'Gradient Boosting':GradientBoostingClassifier(),\n",
    "    'XGBoost':XGBClassifier(),\n",
    "    'OneVsRest':OneVsRestClassifier(KNeighborsClassifier()),\n",
    "    'SVM':SVC()}\n",
    "\n",
    "models_report=pd.DataFrame(columns=['Model_name','Accuracy'])\n",
    "\n",
    "for clf,clf_name in list(zip(clfs.values(),clfs.keys())):\n",
    "    clf.fit(xtrain,ytrain)\n",
    "    y_pred=clf.predict(xtest)\n",
    "    print('fitting classifier....',clf_name)\n",
    "    t=pd.Series({'Model_name':clf_name,\n",
    "                 'Accuracy':accuracy_score(ytest,y_pred)})\n",
    "    models_report=models_report.append(t,ignore_index=True)\n",
    "    \n",
    "models_report=models_report.sort_values(by='Accuracy',ascending=False)"
   ]
  },
  {
   "cell_type": "code",
   "execution_count": null,
   "id": "9a8499ae",
   "metadata": {},
   "outputs": [],
   "source": [
    "models_report"
   ]
  },
  {
   "cell_type": "code",
   "execution_count": null,
   "id": "b4cc1570",
   "metadata": {},
   "outputs": [],
   "source": [
    "%%time\n",
    "rf = XGBClassifier()\n",
    "rf.fit(xtrain,ytrain)\n",
    "y_pred = rf.predict(xtest)"
   ]
  },
  {
   "cell_type": "code",
   "execution_count": null,
   "id": "cab2f7ba",
   "metadata": {},
   "outputs": [],
   "source": [
    "print(accuracy_score(ytest,y_pred))"
   ]
  },
  {
   "cell_type": "markdown",
   "id": "2395ff77",
   "metadata": {},
   "source": [
    "# Prediction of my resume"
   ]
  },
  {
   "cell_type": "code",
   "execution_count": null,
   "id": "927ca9fe",
   "metadata": {},
   "outputs": [],
   "source": [
    "import pickle\n",
    "pickle.dump(tfidf,open('tfidf','wb'))\n",
    "pickle.dump(rf, open('rf', 'wb'))"
   ]
  },
  {
   "cell_type": "code",
   "execution_count": null,
   "id": "cc6b1cb6",
   "metadata": {},
   "outputs": [],
   "source": [
    "!pip install PyPDF2"
   ]
  },
  {
   "cell_type": "code",
   "execution_count": null,
   "id": "c585620f",
   "metadata": {},
   "outputs": [],
   "source": [
    "import PyPDF2\n",
    "from tkinter import Tk\n",
    "from tkinter.filedialog import askopenfilename\n",
    "\n",
    "def read_pdf(file_path):\n",
    "    with open(file_path, 'rb') as file:\n",
    "        pdf_reader = PyPDF2.PdfReader(file)\n",
    "        text = \"\"\n",
    "        for page_num in range(len(pdf_reader.pages)):\n",
    "            page = pdf_reader.pages[page_num]\n",
    "            text += page.extract_text()\n",
    "    return text\n",
    "\n",
    "# Create a prompt to select a PDF file\n",
    "Tk().withdraw()  # Hide the main window\n",
    "file_path = askopenfilename(title=\"Select a PDF file\", filetypes=[(\"PDF files\", \"*.pdf\")])\n",
    "\n",
    "# Read and decode the PDF content\n",
    "if file_path:\n",
    "    pdf_content = read_pdf(file_path)\n",
    "    print(\"PDF content as a single string:\")\n",
    "    print(pdf_content)\n",
    "else:\n",
    "    print(\"No file selected.\")\n"
   ]
  },
  {
   "cell_type": "code",
   "execution_count": null,
   "id": "33d21537",
   "metadata": {},
   "outputs": [],
   "source": [
    "resume= pdf_content"
   ]
  },
  {
   "cell_type": "code",
   "execution_count": null,
   "id": "b24ffaee",
   "metadata": {},
   "outputs": [],
   "source": [
    "#Load the model trained\n",
    "\n",
    "rf = pickle.load(open('rf','rb'))\n",
    "\n",
    "cleanedresume= resumeclean(resume)\n",
    "\n",
    "input_features = tfidf.transform([cleanedresume])\n",
    "\n",
    "prediction_id = rf.predict([input_features][0])"
   ]
  },
  {
   "cell_type": "code",
   "execution_count": null,
   "id": "ed67faf0",
   "metadata": {},
   "outputs": [],
   "source": [
    "prediction_id"
   ]
  },
  {
   "cell_type": "code",
   "execution_count": null,
   "id": "e1cf20b8",
   "metadata": {},
   "outputs": [],
   "source": [
    "\n",
    "# Map category ID to category name\n",
    "category_mapping = {\n",
    "    15: \"Java Developer\",\n",
    "    23: \"Testing\",\n",
    "    8: \"DevOps Engineer\",\n",
    "    20: \"Python Developer\",\n",
    "    24: \"Web Designing\",\n",
    "    12: \"HR\",\n",
    "    13: \"Hadoop\",\n",
    "    3: \"Blockchain\",\n",
    "    10: \"ETL Developer\",\n",
    "    18: \"Operations Manager\",\n",
    "    6: \"Data Science\",\n",
    "    22: \"Sales\",\n",
    "    16: \"Mechanical Engineer\",\n",
    "    1: \"Arts\",\n",
    "    7: \"Database\",\n",
    "    11: \"Electrical Engineering\",\n",
    "    14: \"Health and fitness\",\n",
    "    19: \"PMO\",\n",
    "    4: \"Business Analyst\",\n",
    "    9: \"DotNet Developer\",\n",
    "    2: \"Automation Testing\",\n",
    "    17: \"Network Security Engineer\",\n",
    "    21: \"SAP Developer\",\n",
    "    5: \"Civil Engineer\",\n",
    "    0: \"Advocate\",\n",
    "} "
   ]
  },
  {
   "cell_type": "code",
   "execution_count": null,
   "id": "6dd177e8",
   "metadata": {},
   "outputs": [],
   "source": [
    "category_name = category_mapping.get(prediction_id[0], \"Unknown\")\n",
    "\n",
    "print(\"Predicted Category:\", category_name)"
   ]
  },
  {
   "cell_type": "markdown",
   "id": "9d17a29b",
   "metadata": {},
   "source": [
    "# Creating app in Streamlit\n"
   ]
  },
  {
   "cell_type": "code",
   "execution_count": null,
   "id": "751b2fb3",
   "metadata": {},
   "outputs": [],
   "source": [
    "%%writefile resume_app.py\n",
    "import streamlit as st\n",
    "import pickle \n",
    "import re\n",
    "import nltk\n",
    "import PyPDF2\n",
    "import os\n",
    "from sklearn.model_selection import train_test_split, GridSearchCV\n",
    "from sklearn.preprocessing import StandardScaler\n",
    "from imblearn.over_sampling import SMOTE\n",
    "\n",
    "# libraries for model fitting\n",
    "from sklearn.linear_model import LogisticRegression\n",
    "from sklearn.naive_bayes import GaussianNB\n",
    "from sklearn.neighbors import KNeighborsClassifier\n",
    "from sklearn.tree import DecisionTreeClassifier\n",
    "from sklearn.ensemble import RandomForestClassifier, AdaBoostClassifier, GradientBoostingClassifier\n",
    "from sklearn.svm import SVC\n",
    "from xgboost import XGBClassifier\n",
    "\n",
    "# librarie for metrics \n",
    "from sklearn.metrics import accuracy_score, precision_score, recall_score, f1_score, roc_auc_score\n",
    "from sklearn.metrics import confusion_matrix, classification_report\n",
    "\n",
    "\n",
    "nltk.download('punkt')\n",
    "nltk.download('stopwords')\n",
    "\n",
    "# Load models\n",
    "try:\n",
    "    with open('rf', 'rb') as rf_file:\n",
    "        rf = pickle.load(rf_file)\n",
    "except Exception as e:\n",
    "    st.error(f\"Error loading 'rf' model: {e}\")\n",
    "    st.stop()\n",
    "\n",
    "try:\n",
    "    with open('tfidf', 'rb') as tfidf_file:\n",
    "        tfidfd = pickle.load(tfidf_file)\n",
    "except Exception as e:\n",
    "    st.error(f\"Error loading 'tfidf' model: {e}\")\n",
    "    st.stop()\n",
    "    \n",
    "def resumeclean(x):\n",
    "    CleanResume = re.sub('http\\S+\\s', '', x)\n",
    "    CleanResume = re.sub('@\\S+', '', CleanResume)\n",
    "    CleanResume = re.sub('#\\S+\\s', '', CleanResume)\n",
    "    CleanResume = re.sub('RT|cc', ' ', CleanResume)\n",
    "    CleanResume = re.sub('[%s]' % re.escape(\"\"\"!\"#$%&'()*+,-./:;<=>?@[\\]^_`{|}~\"\"\"), ' ', CleanResume)\n",
    "    CleanResume = re.sub(r'[^\\x00-\\x7f]', ' ', CleanResume) \n",
    "    CleanResume = re.sub('\\s+', ' ', CleanResume)\n",
    "    \n",
    "    return CleanResume\n",
    "\n",
    "def main():\n",
    "    st.title('Resume Screening App')\n",
    "    st.markdown(\n",
    "        \"Welcome to the Resume Screening App! Upload your resume to predict the job category it best matches.\"\n",
    "    )\n",
    "    st.image(\"https://www.recruiterslineup.com/wp-content/uploads/2022/06/resume-screening-software.png\", caption=\"Resume Screening\", use_column_width=True)\n",
    "        \n",
    "    uploaded_file = st.file_uploader('Upload your resume', type=['txt', 'pdf', 'docx'])\n",
    "\n",
    "    if uploaded_file:\n",
    "        st.success(\"Resume uploaded successfully!\")\n",
    "        \n",
    "        if uploaded_file.type == \"application/pdf\":\n",
    "            pdf_reader = PyPDF2.PdfReader(uploaded_file)\n",
    "            text = \"\"\n",
    "            for page_num in range(len(pdf_reader.pages)):\n",
    "                page = pdf_reader.pages[page_num]\n",
    "                text += page.extract_text()\n",
    "        else:\n",
    "            text = uploaded_file.getvalue().decode(\"utf-8\")\n",
    "        \n",
    "        cleaned_resume = resumeclean(text)\n",
    "        cleaned_resume = tfidfd.transform([cleaned_resume])\n",
    "        prediction_id = rf.predict(cleaned_resume)[0]\n",
    "\n",
    "        category_mapping = {\n",
    "        15: \"Java Developer\",\n",
    "        23: \"Testing\",\n",
    "        8: \"DevOps Engineer\",\n",
    "        20: \"Python Developer\",\n",
    "        24: \"Web Designing\",\n",
    "        12: \"HR\",\n",
    "        13: \"Hadoop\",\n",
    "        3: \"Blockchain\",\n",
    "        10: \"ETL Developer\",\n",
    "        18: \"Operations Manager\",\n",
    "        6: \"Data Science\",\n",
    "        22: \"Sales\",\n",
    "        16: \"Mechanical Engineer\",\n",
    "        1: \"Arts\",\n",
    "        7: \"Database\",\n",
    "        11: \"Electrical Engineering\",\n",
    "        14: \"Health and fitness\",\n",
    "        19: \"PMO\",\n",
    "        4: \"Business Analyst\",\n",
    "        9: \"DotNet Developer\",\n",
    "        2: \"Automation Testing\",\n",
    "        17: \"Network Security Engineer\",\n",
    "        21: \"SAP Developer\",\n",
    "        5: \"Civil Engineer\",\n",
    "        0: \"Advocate\"\n",
    "        }\n",
    "\n",
    "        category_name = category_mapping.get(prediction_id, \"Unknown\")\n",
    "\n",
    "        st.subheader(\"Prediction Result:\")\n",
    "        st.success(f\"The predicted category is: {category_name}\")\n",
    "\n",
    "    else:\n",
    "        st.warning(\"Please upload a valid file.\")\n",
    "\n",
    "# Python main\n",
    "if __name__ == '__main__':\n",
    "    main()\n"
   ]
  },
  {
   "cell_type": "code",
   "execution_count": null,
   "id": "e0f467c7",
   "metadata": {},
   "outputs": [],
   "source": []
  }
 ],
 "metadata": {
  "kernelspec": {
   "display_name": "Python 3 (ipykernel)",
   "language": "python",
   "name": "python3"
  },
  "language_info": {
   "codemirror_mode": {
    "name": "ipython",
    "version": 3
   },
   "file_extension": ".py",
   "mimetype": "text/x-python",
   "name": "python",
   "nbconvert_exporter": "python",
   "pygments_lexer": "ipython3",
   "version": "3.10.9"
  }
 },
 "nbformat": 4,
 "nbformat_minor": 5
}
